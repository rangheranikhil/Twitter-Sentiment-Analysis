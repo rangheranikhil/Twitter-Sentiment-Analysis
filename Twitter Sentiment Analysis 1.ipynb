{
 "cells": [
  {
   "cell_type": "code",
   "execution_count": 1,
   "id": "ce5c3650-dd4e-45c7-a96d-7b09dcbf0e72",
   "metadata": {},
   "outputs": [],
   "source": [
    "import pandas as pd\n",
    "import numpy as np\n",
    "import matplotlib.pyplot as plt\n",
    "import seaborn as sns\n",
    "import re\n",
    "import string\n",
    "import nltk\n",
    "import warnings\n",
    "%matplotlib inline\n",
    "\n",
    "warnings.filterwarnings('ignore')"
   ]
  },
  {
   "cell_type": "markdown",
   "id": "8feb5309-ac9c-4a62-9eff-98bdbe3b1880",
   "metadata": {},
   "source": [
    "file_path = 'C:/Users/nikhil/Programming/Jupyter Notebook/datasets/twitter_dataset.csv'\n"
   ]
  },
  {
   "cell_type": "code",
   "execution_count": 2,
   "id": "d404267d-7cf3-40dd-aaef-4a8f02e09c78",
   "metadata": {},
   "outputs": [
    {
     "data": {
      "text/html": [
       "<div>\n",
       "<style scoped>\n",
       "    .dataframe tbody tr th:only-of-type {\n",
       "        vertical-align: middle;\n",
       "    }\n",
       "\n",
       "    .dataframe tbody tr th {\n",
       "        vertical-align: top;\n",
       "    }\n",
       "\n",
       "    .dataframe thead th {\n",
       "        text-align: right;\n",
       "    }\n",
       "</style>\n",
       "<table border=\"1\" class=\"dataframe\">\n",
       "  <thead>\n",
       "    <tr style=\"text-align: right;\">\n",
       "      <th></th>\n",
       "      <th>tweet</th>\n",
       "      <th>label</th>\n",
       "    </tr>\n",
       "  </thead>\n",
       "  <tbody>\n",
       "    <tr>\n",
       "      <th>0</th>\n",
       "      <td>when modi promised âminimum government maxim...</td>\n",
       "      <td>-1.0</td>\n",
       "    </tr>\n",
       "    <tr>\n",
       "      <th>1</th>\n",
       "      <td>talk all the nonsense and continue all the dra...</td>\n",
       "      <td>0.0</td>\n",
       "    </tr>\n",
       "    <tr>\n",
       "      <th>2</th>\n",
       "      <td>what did just say vote for modi  welcome bjp t...</td>\n",
       "      <td>1.0</td>\n",
       "    </tr>\n",
       "    <tr>\n",
       "      <th>3</th>\n",
       "      <td>asking his supporters prefix chowkidar their n...</td>\n",
       "      <td>1.0</td>\n",
       "    </tr>\n",
       "    <tr>\n",
       "      <th>4</th>\n",
       "      <td>answer who among these the most powerful world...</td>\n",
       "      <td>1.0</td>\n",
       "    </tr>\n",
       "  </tbody>\n",
       "</table>\n",
       "</div>"
      ],
      "text/plain": [
       "                                               tweet  label\n",
       "0  when modi promised âminimum government maxim...   -1.0\n",
       "1  talk all the nonsense and continue all the dra...    0.0\n",
       "2  what did just say vote for modi  welcome bjp t...    1.0\n",
       "3  asking his supporters prefix chowkidar their n...    1.0\n",
       "4  answer who among these the most powerful world...    1.0"
      ]
     },
     "execution_count": 2,
     "metadata": {},
     "output_type": "execute_result"
    }
   ],
   "source": [
    "df = pd.read_csv('C:/Users/Nikhil/OneDrive/AppData/Desktop/project/Twitter_Data.csv', encoding='iso-8859-1')\n",
    "df.head()"
   ]
  },
  {
   "cell_type": "code",
   "execution_count": 3,
   "id": "97a3d3e6-6839-4b30-8e52-3278750827b3",
   "metadata": {},
   "outputs": [
    {
     "name": "stdout",
     "output_type": "stream",
     "text": [
      "<class 'pandas.core.frame.DataFrame'>\n",
      "RangeIndex: 162980 entries, 0 to 162979\n",
      "Data columns (total 2 columns):\n",
      " #   Column  Non-Null Count   Dtype  \n",
      "---  ------  --------------   -----  \n",
      " 0   tweet   162976 non-null  object \n",
      " 1   label   162973 non-null  float64\n",
      "dtypes: float64(1), object(1)\n",
      "memory usage: 2.5+ MB\n"
     ]
    }
   ],
   "source": [
    "# datatype info\n",
    "df.info()"
   ]
  },
  {
   "cell_type": "code",
   "execution_count": 4,
   "id": "fa645a87-b289-4be0-a8f4-00e9915322e4",
   "metadata": {},
   "outputs": [],
   "source": [
    "# removes pattern in the input text\n",
    "def remove_pattern(input_txt, pattern):\n",
    "    r = re.findall(pattern, input_txt)\n",
    "    for word in r:\n",
    "        input_txt = re.sub(word, \"\", input_txt)\n",
    "    return input_txt"
   ]
  },
  {
   "cell_type": "code",
   "execution_count": 5,
   "id": "ace9eddf-7490-444e-a17d-0652c07571f6",
   "metadata": {},
   "outputs": [
    {
     "data": {
      "text/html": [
       "<div>\n",
       "<style scoped>\n",
       "    .dataframe tbody tr th:only-of-type {\n",
       "        vertical-align: middle;\n",
       "    }\n",
       "\n",
       "    .dataframe tbody tr th {\n",
       "        vertical-align: top;\n",
       "    }\n",
       "\n",
       "    .dataframe thead th {\n",
       "        text-align: right;\n",
       "    }\n",
       "</style>\n",
       "<table border=\"1\" class=\"dataframe\">\n",
       "  <thead>\n",
       "    <tr style=\"text-align: right;\">\n",
       "      <th></th>\n",
       "      <th>tweet</th>\n",
       "      <th>label</th>\n",
       "    </tr>\n",
       "  </thead>\n",
       "  <tbody>\n",
       "    <tr>\n",
       "      <th>0</th>\n",
       "      <td>when modi promised âminimum government maxim...</td>\n",
       "      <td>-1.0</td>\n",
       "    </tr>\n",
       "    <tr>\n",
       "      <th>1</th>\n",
       "      <td>talk all the nonsense and continue all the dra...</td>\n",
       "      <td>0.0</td>\n",
       "    </tr>\n",
       "    <tr>\n",
       "      <th>2</th>\n",
       "      <td>what did just say vote for modi  welcome bjp t...</td>\n",
       "      <td>1.0</td>\n",
       "    </tr>\n",
       "    <tr>\n",
       "      <th>3</th>\n",
       "      <td>asking his supporters prefix chowkidar their n...</td>\n",
       "      <td>1.0</td>\n",
       "    </tr>\n",
       "    <tr>\n",
       "      <th>4</th>\n",
       "      <td>answer who among these the most powerful world...</td>\n",
       "      <td>1.0</td>\n",
       "    </tr>\n",
       "  </tbody>\n",
       "</table>\n",
       "</div>"
      ],
      "text/plain": [
       "                                               tweet  label\n",
       "0  when modi promised âminimum government maxim...   -1.0\n",
       "1  talk all the nonsense and continue all the dra...    0.0\n",
       "2  what did just say vote for modi  welcome bjp t...    1.0\n",
       "3  asking his supporters prefix chowkidar their n...    1.0\n",
       "4  answer who among these the most powerful world...    1.0"
      ]
     },
     "execution_count": 5,
     "metadata": {},
     "output_type": "execute_result"
    }
   ],
   "source": [
    "df.head()"
   ]
  },
  {
   "cell_type": "code",
   "execution_count": 6,
   "id": "9acbd3f1-3e99-4d17-9846-9769ba2cb704",
   "metadata": {},
   "outputs": [],
   "source": [
    "# Assuming 'tweet' is the column in your DataFrame\n",
    "# First, replace NaN values with empty strings\n",
    "df['tweet'] = df['tweet'].fillna('')\n",
    "\n",
    "# Then, convert the 'tweet' column to string data type\n",
    "df['tweet'] = df['tweet'].astype(str)\n",
    "\n",
    "# Apply the remove_pattern function\n",
    "# remove twitter handles (@user)\n",
    "df['clean_tweet'] = np.vectorize(remove_pattern)(df['tweet'], \"@[\\w]*\")"
   ]
  },
  {
   "cell_type": "code",
   "execution_count": 7,
   "id": "f6a4a093-5787-4a61-b591-a4107dc87f99",
   "metadata": {},
   "outputs": [
    {
     "data": {
      "text/html": [
       "<div>\n",
       "<style scoped>\n",
       "    .dataframe tbody tr th:only-of-type {\n",
       "        vertical-align: middle;\n",
       "    }\n",
       "\n",
       "    .dataframe tbody tr th {\n",
       "        vertical-align: top;\n",
       "    }\n",
       "\n",
       "    .dataframe thead th {\n",
       "        text-align: right;\n",
       "    }\n",
       "</style>\n",
       "<table border=\"1\" class=\"dataframe\">\n",
       "  <thead>\n",
       "    <tr style=\"text-align: right;\">\n",
       "      <th></th>\n",
       "      <th>tweet</th>\n",
       "      <th>label</th>\n",
       "      <th>clean_tweet</th>\n",
       "    </tr>\n",
       "  </thead>\n",
       "  <tbody>\n",
       "    <tr>\n",
       "      <th>0</th>\n",
       "      <td>when modi promised âminimum government maxim...</td>\n",
       "      <td>-1.0</td>\n",
       "      <td>when modi promised âminimum government maxim...</td>\n",
       "    </tr>\n",
       "    <tr>\n",
       "      <th>1</th>\n",
       "      <td>talk all the nonsense and continue all the dra...</td>\n",
       "      <td>0.0</td>\n",
       "      <td>talk all the nonsense and continue all the dra...</td>\n",
       "    </tr>\n",
       "    <tr>\n",
       "      <th>2</th>\n",
       "      <td>what did just say vote for modi  welcome bjp t...</td>\n",
       "      <td>1.0</td>\n",
       "      <td>what did just say vote for modi  welcome bjp t...</td>\n",
       "    </tr>\n",
       "    <tr>\n",
       "      <th>3</th>\n",
       "      <td>asking his supporters prefix chowkidar their n...</td>\n",
       "      <td>1.0</td>\n",
       "      <td>asking his supporters prefix chowkidar their n...</td>\n",
       "    </tr>\n",
       "    <tr>\n",
       "      <th>4</th>\n",
       "      <td>answer who among these the most powerful world...</td>\n",
       "      <td>1.0</td>\n",
       "      <td>answer who among these the most powerful world...</td>\n",
       "    </tr>\n",
       "  </tbody>\n",
       "</table>\n",
       "</div>"
      ],
      "text/plain": [
       "                                               tweet  label  \\\n",
       "0  when modi promised âminimum government maxim...   -1.0   \n",
       "1  talk all the nonsense and continue all the dra...    0.0   \n",
       "2  what did just say vote for modi  welcome bjp t...    1.0   \n",
       "3  asking his supporters prefix chowkidar their n...    1.0   \n",
       "4  answer who among these the most powerful world...    1.0   \n",
       "\n",
       "                                         clean_tweet  \n",
       "0  when modi promised âminimum government maxim...  \n",
       "1  talk all the nonsense and continue all the dra...  \n",
       "2  what did just say vote for modi  welcome bjp t...  \n",
       "3  asking his supporters prefix chowkidar their n...  \n",
       "4  answer who among these the most powerful world...  "
      ]
     },
     "execution_count": 7,
     "metadata": {},
     "output_type": "execute_result"
    }
   ],
   "source": [
    "df.head()"
   ]
  },
  {
   "cell_type": "code",
   "execution_count": 8,
   "id": "e08267aa-a4df-4d2c-adae-807b7fb1e357",
   "metadata": {},
   "outputs": [
    {
     "data": {
      "text/html": [
       "<div>\n",
       "<style scoped>\n",
       "    .dataframe tbody tr th:only-of-type {\n",
       "        vertical-align: middle;\n",
       "    }\n",
       "\n",
       "    .dataframe tbody tr th {\n",
       "        vertical-align: top;\n",
       "    }\n",
       "\n",
       "    .dataframe thead th {\n",
       "        text-align: right;\n",
       "    }\n",
       "</style>\n",
       "<table border=\"1\" class=\"dataframe\">\n",
       "  <thead>\n",
       "    <tr style=\"text-align: right;\">\n",
       "      <th></th>\n",
       "      <th>tweet</th>\n",
       "      <th>label</th>\n",
       "      <th>clean_tweet</th>\n",
       "    </tr>\n",
       "  </thead>\n",
       "  <tbody>\n",
       "    <tr>\n",
       "      <th>0</th>\n",
       "      <td>when modi promised âminimum government maxim...</td>\n",
       "      <td>-1.0</td>\n",
       "      <td>when modi promised âminimum government maxim...</td>\n",
       "    </tr>\n",
       "    <tr>\n",
       "      <th>1</th>\n",
       "      <td>talk all the nonsense and continue all the dra...</td>\n",
       "      <td>0.0</td>\n",
       "      <td>talk all the nonsense and continue all the dra...</td>\n",
       "    </tr>\n",
       "    <tr>\n",
       "      <th>2</th>\n",
       "      <td>what did just say vote for modi  welcome bjp t...</td>\n",
       "      <td>1.0</td>\n",
       "      <td>what did just say vote for modi  welcome bjp t...</td>\n",
       "    </tr>\n",
       "    <tr>\n",
       "      <th>3</th>\n",
       "      <td>asking his supporters prefix chowkidar their n...</td>\n",
       "      <td>1.0</td>\n",
       "      <td>asking his supporters prefix chowkidar their n...</td>\n",
       "    </tr>\n",
       "    <tr>\n",
       "      <th>4</th>\n",
       "      <td>answer who among these the most powerful world...</td>\n",
       "      <td>1.0</td>\n",
       "      <td>answer who among these the most powerful world...</td>\n",
       "    </tr>\n",
       "  </tbody>\n",
       "</table>\n",
       "</div>"
      ],
      "text/plain": [
       "                                               tweet  label  \\\n",
       "0  when modi promised âminimum government maxim...   -1.0   \n",
       "1  talk all the nonsense and continue all the dra...    0.0   \n",
       "2  what did just say vote for modi  welcome bjp t...    1.0   \n",
       "3  asking his supporters prefix chowkidar their n...    1.0   \n",
       "4  answer who among these the most powerful world...    1.0   \n",
       "\n",
       "                                         clean_tweet  \n",
       "0  when modi promised âminimum government maxim...  \n",
       "1  talk all the nonsense and continue all the dra...  \n",
       "2  what did just say vote for modi  welcome bjp t...  \n",
       "3  asking his supporters prefix chowkidar their n...  \n",
       "4  answer who among these the most powerful world...  "
      ]
     },
     "execution_count": 8,
     "metadata": {},
     "output_type": "execute_result"
    }
   ],
   "source": [
    "# remove special characters, numbers and punctuations\n",
    "df['clean_tweet'] = df['tweet'].str.replace(\"[^a-zA-Z#]\", \" \")\n",
    "df.head()"
   ]
  },
  {
   "cell_type": "code",
   "execution_count": 9,
   "id": "6ab7cc5c-4999-4e0c-8ab9-d43024233cad",
   "metadata": {},
   "outputs": [
    {
     "data": {
      "text/html": [
       "<div>\n",
       "<style scoped>\n",
       "    .dataframe tbody tr th:only-of-type {\n",
       "        vertical-align: middle;\n",
       "    }\n",
       "\n",
       "    .dataframe tbody tr th {\n",
       "        vertical-align: top;\n",
       "    }\n",
       "\n",
       "    .dataframe thead th {\n",
       "        text-align: right;\n",
       "    }\n",
       "</style>\n",
       "<table border=\"1\" class=\"dataframe\">\n",
       "  <thead>\n",
       "    <tr style=\"text-align: right;\">\n",
       "      <th></th>\n",
       "      <th>tweet</th>\n",
       "      <th>label</th>\n",
       "      <th>clean_tweet</th>\n",
       "    </tr>\n",
       "  </thead>\n",
       "  <tbody>\n",
       "    <tr>\n",
       "      <th>0</th>\n",
       "      <td>when modi promised âminimum government maxim...</td>\n",
       "      <td>-1.0</td>\n",
       "      <td>when modi promised âminimum government maxim...</td>\n",
       "    </tr>\n",
       "    <tr>\n",
       "      <th>1</th>\n",
       "      <td>talk all the nonsense and continue all the dra...</td>\n",
       "      <td>0.0</td>\n",
       "      <td>talk nonsense continue drama will vote modi</td>\n",
       "    </tr>\n",
       "    <tr>\n",
       "      <th>2</th>\n",
       "      <td>what did just say vote for modi  welcome bjp t...</td>\n",
       "      <td>1.0</td>\n",
       "      <td>what just vote modi welcome told rahul main ca...</td>\n",
       "    </tr>\n",
       "    <tr>\n",
       "      <th>3</th>\n",
       "      <td>asking his supporters prefix chowkidar their n...</td>\n",
       "      <td>1.0</td>\n",
       "      <td>asking supporters prefix chowkidar their names...</td>\n",
       "    </tr>\n",
       "    <tr>\n",
       "      <th>4</th>\n",
       "      <td>answer who among these the most powerful world...</td>\n",
       "      <td>1.0</td>\n",
       "      <td>answer among these most powerful world leader ...</td>\n",
       "    </tr>\n",
       "  </tbody>\n",
       "</table>\n",
       "</div>"
      ],
      "text/plain": [
       "                                               tweet  label  \\\n",
       "0  when modi promised âminimum government maxim...   -1.0   \n",
       "1  talk all the nonsense and continue all the dra...    0.0   \n",
       "2  what did just say vote for modi  welcome bjp t...    1.0   \n",
       "3  asking his supporters prefix chowkidar their n...    1.0   \n",
       "4  answer who among these the most powerful world...    1.0   \n",
       "\n",
       "                                         clean_tweet  \n",
       "0  when modi promised âminimum government maxim...  \n",
       "1        talk nonsense continue drama will vote modi  \n",
       "2  what just vote modi welcome told rahul main ca...  \n",
       "3  asking supporters prefix chowkidar their names...  \n",
       "4  answer among these most powerful world leader ...  "
      ]
     },
     "execution_count": 9,
     "metadata": {},
     "output_type": "execute_result"
    }
   ],
   "source": [
    "# remove short words\n",
    "df['clean_tweet'] = df['tweet'].apply(lambda x: \" \".join([w for w in x.split() if len(w)>3]))\n",
    "df.head()"
   ]
  },
  {
   "cell_type": "code",
   "execution_count": 10,
   "id": "0de87ea0-e631-409d-abfd-4bf1f65635f8",
   "metadata": {},
   "outputs": [
    {
     "data": {
      "text/plain": [
       "0    [when, modi, promised, âminimum, government,...\n",
       "1    [talk, nonsense, continue, drama, will, vote, ...\n",
       "2    [what, just, vote, modi, welcome, told, rahul,...\n",
       "3    [asking, supporters, prefix, chowkidar, their,...\n",
       "4    [answer, among, these, most, powerful, world, ...\n",
       "Name: clean_tweet, dtype: object"
      ]
     },
     "execution_count": 10,
     "metadata": {},
     "output_type": "execute_result"
    }
   ],
   "source": [
    "# individual words considered as tokens\n",
    "tokenized_tweet = df['clean_tweet'].apply(lambda x: x.split())\n",
    "tokenized_tweet.head()"
   ]
  },
  {
   "cell_type": "code",
   "execution_count": null,
   "id": "77922a47-04d0-4835-8a2e-89d1d94347f8",
   "metadata": {},
   "outputs": [],
   "source": [
    "# stem the words\n",
    "from nltk.stem.porter import PorterStemmer\n",
    "stemmer = PorterStemmer()\n",
    "\n",
    "tokenized_tweet = tokenized_tweet.apply(lambda sentence: [stemmer.stem(word) for word in sentence])\n",
    "tokenized_tweet.head()"
   ]
  },
  {
   "cell_type": "code",
   "execution_count": null,
   "id": "9fd81dcb-89ec-4d1d-be9a-6dc4e043a5e3",
   "metadata": {},
   "outputs": [],
   "source": [
    "# combine words into single sentence\n",
    "for i in range(len(tokenized_tweet)):\n",
    "    tokenized_tweet[i] = \" \".join(tokenized_tweet[i])\n",
    "    \n",
    "df['clean_tweet'] = tokenized_tweet\n",
    "df.head()"
   ]
  },
  {
   "cell_type": "code",
   "execution_count": null,
   "id": "aab0f61a-4f79-4c7b-a5e7-d617f38eab72",
   "metadata": {},
   "outputs": [],
   "source": [
    "# !pip install wordcloud"
   ]
  },
  {
   "cell_type": "code",
   "execution_count": null,
   "id": "c606e4bb-0f10-42a7-a9fa-b8188c418f30",
   "metadata": {},
   "outputs": [],
   "source": [
    "# visualize the frequent words\n",
    "all_words = \" \".join([sentence for sentence in df['clean_tweet']])\n",
    "\n",
    "from wordcloud import WordCloud\n",
    "wordcloud = WordCloud(width=800, height=500, random_state=42, max_font_size=100).generate(all_words)\n",
    "\n",
    "# plot the graph\n",
    "plt.figure(figsize=(15,8))\n",
    "plt.imshow(wordcloud, interpolation='bilinear')\n",
    "plt.axis('off')\n",
    "plt.show()"
   ]
  },
  {
   "cell_type": "code",
   "execution_count": null,
   "id": "6be12be7-4786-4678-9c40-2f7cd70f0e1a",
   "metadata": {},
   "outputs": [],
   "source": [
    "# frequent words visualization for +ve\n",
    "all_words = \" \".join([sentence for sentence in df['clean_tweet'][df['label']==0]])\n",
    "\n",
    "wordcloud = WordCloud(width=800, height=500, random_state=42, max_font_size=100).generate(all_words)\n",
    "\n",
    "# plot the graph\n",
    "plt.figure(figsize=(15,8))\n",
    "plt.imshow(wordcloud, interpolation='bilinear')\n",
    "plt.axis('off')\n",
    "plt.show()"
   ]
  },
  {
   "cell_type": "code",
   "execution_count": null,
   "id": "02bacf10-6edd-47cd-ab95-514bddd9de5a",
   "metadata": {},
   "outputs": [],
   "source": [
    "# frequent words visualization for -ve\n",
    "all_words = \" \".join([sentence for sentence in df['clean_tweet'][df['label']==1]])\n",
    "\n",
    "wordcloud = WordCloud(width=800, height=500, random_state=42, max_font_size=100).generate(all_words)\n",
    "\n",
    "# plot the graph\n",
    "plt.figure(figsize=(15,8))\n",
    "plt.imshow(wordcloud, interpolation='bilinear')\n",
    "plt.axis('off')\n",
    "plt.show()"
   ]
  },
  {
   "cell_type": "code",
   "execution_count": null,
   "id": "894a6e3c-c8d3-4bde-a8c5-23f590a7082e",
   "metadata": {},
   "outputs": [],
   "source": [
    "# extract the hashtag\n",
    "def hashtag_extract(tweets):\n",
    "    hashtags = []\n",
    "    # loop words in the tweet\n",
    "    for tweet in tweets:\n",
    "        ht = re.findall(r\"#(\\w+)\", tweet)\n",
    "        hashtags.append(ht)\n",
    "    return hashtags"
   ]
  },
  {
   "cell_type": "code",
   "execution_count": null,
   "id": "4f71e365-f942-411f-8766-cb77e7b165b4",
   "metadata": {},
   "outputs": [],
   "source": [
    "# extract hashtags from non-racist/sexist tweets\n",
    "ht_positive = hashtag_extract(df['clean_tweet'][df['label']==0])\n",
    "\n",
    "# extract hashtags from racist/sexist tweets\n",
    "ht_negative = hashtag_extract(df['clean_tweet'][df['label']==1])"
   ]
  },
  {
   "cell_type": "code",
   "execution_count": null,
   "id": "d49925f0-c6d3-44ec-8bde-59817cddef91",
   "metadata": {},
   "outputs": [],
   "source": [
    "ht_positive[:5]"
   ]
  },
  {
   "cell_type": "code",
   "execution_count": null,
   "id": "aa7f6494-77dd-495c-a477-26d9f63d3373",
   "metadata": {},
   "outputs": [],
   "source": [
    "# Assuming you have a list of lists with hashtags in ht_positive\n",
    "# Extract hashtags from the list of lists\n",
    "hashtags = [item for sublist in ht_positive for item in sublist]\n",
    "\n",
    "# Create a frequency distribution of hashtags\n",
    "freq = nltk.FreqDist(hashtags)\n",
    "\n",
    "# Create a DataFrame to display the top hashtags and their counts\n",
    "d = pd.DataFrame({'Hashtag': list(freq.keys()), 'Count': list(freq.values())})\n",
    "\n",
    "# Display the top rows of the DataFrame\n",
    "print(d.head())\n"
   ]
  },
  {
   "cell_type": "code",
   "execution_count": null,
   "id": "085833df-2a10-4339-baec-e0df2582f78e",
   "metadata": {},
   "outputs": [],
   "source": [
    "# freq = nltk.FreqDist(ht_positive)\n",
    "# d = pd.DataFrame({'Hashtag': list(freq.keys()),\n",
    "#                  'Count': list(freq.values())})\n",
    "# d.head()"
   ]
  },
  {
   "cell_type": "code",
   "execution_count": null,
   "id": "00e7b8be-b49b-437f-ac0f-f0c3badd0ce3",
   "metadata": {},
   "outputs": [],
   "source": [
    "# select top 10 hashtags\n",
    "d = d.nlargest(columns='Count', n=10)\n",
    "plt.figure(figsize=(15,9))\n",
    "sns.barplot(data=d, x='Hashtag', y='Count')\n",
    "plt.show()"
   ]
  },
  {
   "cell_type": "code",
   "execution_count": null,
   "id": "27d815ef-97f6-4555-a970-0439bac6a23c",
   "metadata": {},
   "outputs": [],
   "source": [
    "freq = nltk.FreqDist(hashtags)\n",
    "d = pd.DataFrame({'Hashtag': list(freq.keys()),\n",
    "                 'Count': list(freq.values())})\n",
    "d.head()"
   ]
  },
  {
   "cell_type": "code",
   "execution_count": null,
   "id": "7de46237-021c-4e99-bae4-7fe313faf421",
   "metadata": {
    "scrolled": true
   },
   "outputs": [],
   "source": [
    "# select top 10 hashtags\n",
    "d = d.nlargest(columns='Count', n=10)\n",
    "plt.figure(figsize=(15,9))\n",
    "sns.barplot(data=d, x='Hashtag', y='Count')\n",
    "plt.show()"
   ]
  },
  {
   "cell_type": "code",
   "execution_count": null,
   "id": "2eaac1db-457d-4584-877f-3d2dbbb63a98",
   "metadata": {},
   "outputs": [],
   "source": [
    "# feature extraction\n",
    "from sklearn.feature_extraction.text import CountVectorizer\n",
    "bow_vectorizer = CountVectorizer(max_df=0.90, min_df=2, max_features=1000, stop_words='english')\n",
    "bow = bow_vectorizer.fit_transform(df['clean_tweet'])"
   ]
  },
  {
   "cell_type": "code",
   "execution_count": null,
   "id": "cb1f430a-1ed1-44e6-9f53-f78304d240a9",
   "metadata": {},
   "outputs": [],
   "source": [
    "# bow[0].toarray()"
   ]
  },
  {
   "cell_type": "code",
   "execution_count": null,
   "id": "7e42ef3b-e8c5-4838-b883-4db86cdc013c",
   "metadata": {},
   "outputs": [],
   "source": [
    "from sklearn.model_selection import train_test_split\n",
    "x_train, x_test, y_train, y_test = train_test_split(bow, df['label'], random_state=42, test_size=0.25)"
   ]
  },
  {
   "cell_type": "markdown",
   "id": "0962d5e8-d13e-4846-a03e-59dd8f4c8251",
   "metadata": {},
   "source": [
    "Model Training"
   ]
  },
  {
   "cell_type": "code",
   "execution_count": null,
   "id": "128639ee-9825-4aea-ac31-31c96877da27",
   "metadata": {},
   "outputs": [],
   "source": [
    "from sklearn.linear_model import LogisticRegression\n",
    "from sklearn.metrics import f1_score, accuracy_score"
   ]
  },
  {
   "cell_type": "code",
   "execution_count": null,
   "id": "9503df4d-81a4-43d2-aee6-a39001e88d00",
   "metadata": {},
   "outputs": [],
   "source": [
    "# training\n",
    "model = LogisticRegression()\n",
    "model.fit(x_train, y_train)"
   ]
  },
  {
   "cell_type": "code",
   "execution_count": null,
   "id": "32661dc7-a68e-462e-aa38-59e229b72caf",
   "metadata": {},
   "outputs": [],
   "source": [
    "# testing\n",
    "pred = model.predict(x_test)\n",
    "f1_score(y_test, pred)"
   ]
  },
  {
   "cell_type": "code",
   "execution_count": null,
   "id": "572f95b8-b152-488a-8839-8a8b633fd366",
   "metadata": {},
   "outputs": [],
   "source": [
    "accuracy_score(y_test,pred)"
   ]
  },
  {
   "cell_type": "code",
   "execution_count": null,
   "id": "8d06c8be-1217-411a-8808-e1fa21b66025",
   "metadata": {},
   "outputs": [],
   "source": [
    "# use probability to get output\n",
    "pred_prob = model.predict_proba(x_test)\n",
    "pred = pred_prob[:, 1] >= 0.3\n",
    "pred = pred.astype(np.int)\n",
    "\n",
    "f1_score(y_test, pred)"
   ]
  },
  {
   "cell_type": "code",
   "execution_count": null,
   "id": "d18ef9e7-ad13-4501-b3de-c7bc5ce8cbbf",
   "metadata": {},
   "outputs": [],
   "source": [
    "accuracy_score(y_test,pred)"
   ]
  },
  {
   "cell_type": "code",
   "execution_count": null,
   "id": "9e2f1beb-ad53-463d-ab92-098ea2294cc4",
   "metadata": {},
   "outputs": [],
   "source": [
    "pred_prob[0][1] >= 0.3"
   ]
  },
  {
   "cell_type": "code",
   "execution_count": null,
   "id": "12898757-0e2e-4b8b-a743-e9fdf63a4f62",
   "metadata": {},
   "outputs": [],
   "source": []
  }
 ],
 "metadata": {
  "kernelspec": {
   "display_name": "Python 3 (ipykernel)",
   "language": "python",
   "name": "python3"
  },
  "language_info": {
   "codemirror_mode": {
    "name": "ipython",
    "version": 3
   },
   "file_extension": ".py",
   "mimetype": "text/x-python",
   "name": "python",
   "nbconvert_exporter": "python",
   "pygments_lexer": "ipython3",
   "version": "3.11.0"
  }
 },
 "nbformat": 4,
 "nbformat_minor": 5
}
